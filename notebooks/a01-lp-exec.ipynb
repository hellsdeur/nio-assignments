{
  "cells": [
    {
      "cell_type": "markdown",
      "metadata": {
        "id": "ND3BcRWzYgIp"
      },
      "source": [
        "# Team\n",
        "\n",
        "<a target=\"_blank\" href=\"https://colab.research.google.com/github/glaucogoncalves/nio/blob/main/assignments/lp-exec-2.ipynb\"> <img src=\"https://colab.research.google.com/assets/colab-badge.svg\" alt=\"Open In Colab\"/></a>\n",
        "\n",
        "Please list student names here"
      ]
    },
    {
      "cell_type": "markdown",
      "metadata": {
        "id": "Ns0bu8NRPYaf"
      },
      "source": [
        "# Attention, please!\n",
        "\n",
        "Solve the problems below. Show the problem model and the solution using ```pyomo``` and the GLPK or COIN-OR solvers.\n",
        "\n",
        "To see how to write optimization models in colab, look for examples in the Linear Programming class colab.\n",
        "\n",
        "Please send your Colab file (.ipynb) in SIGAA."
      ]
    },
    {
      "cell_type": "markdown",
      "metadata": {
        "id": "uQ_1hjFjShJW"
      },
      "source": [
        "# Problem 1"
      ]
    },
    {
      "cell_type": "markdown",
      "metadata": {
        "id": "0NBVgZR4SlHf"
      },
      "source": [
        "A furniture manufacturer employs 6 skilled and 11 semiskilled workers and produces two products: study table and computer table. A study table requires 2 h of a skilled worker and 2 h of an unskilled worker. A computer table requires 2 h of a skilled worker and 5 h of an unskilled worker. As per the industrial laws, no one is allowed to work for more than 38 h a week. The manufacturer can sell as many tables as he can produce. If the profit for a study table is $100 and for a computer table $160, how many study and computer tables should the manufacturer produce in a week in order to maximize the overall profit? Formulate a linear programming model and solve it."
      ]
    },
    {
      "cell_type": "markdown",
      "metadata": {
        "id": "3J3qyDVNSuN7"
      },
      "source": [
        "# Problem 2"
      ]
    },
    {
      "cell_type": "markdown",
      "metadata": {
        "id": "7VW1MB8cS3FU"
      },
      "source": [
        "CPS Investment Services must develop an investment portfolio for a new customer. Initially, the new customer would like to restrict portfolio to three stocks as shown below:\n",
        "\n",
        "|Stock|Price per Share ($)|Estimated Annual Return (%)|\n",
        "|--|--|--|\n",
        "|ACT cable|50|6|\n",
        "|CTR retail|35|10|\n",
        "|PCL petroleum|120|8|\n",
        "\n",
        "The customer wants to invest $80,000 and established two investment\n",
        "goals.\n",
        "Goal 1: Obtain an annual return of at least 9%.\n",
        "Goal 2: Limit the investment in CTR retail, the riskier investment, to no more than 50% of the total investment.\n",
        "\n",
        "Formulate a mathematical programming model for the CPS investment problem and solve it."
      ]
    },
    {
      "cell_type": "markdown",
      "metadata": {
        "id": "dfZdDAhBUHxv"
      },
      "source": [
        "# Problem 3"
      ]
    },
    {
      "cell_type": "markdown",
      "metadata": {
        "id": "2V97ASWwVazL"
      },
      "source": [
        "After a major bushfire, the local government is planning to establish a new fire station to cover four major town centers, under frequent fire threat, located in Town-1 (10, 20), Town-5 (50, 20), Town-8 (40, 40), and Town-14 (70, 60). Town-1 averages 20 fires per year; Town-5, 30 fires; Town-8, 40 fires; and Town-14, 25 fires. The local government wants to build the fire station in a location that minimizes the average distance that a fire engine must travel to respond to a fire. Develop a mathematical model to determine the location of the fire station."
      ]
    },
    {
      "cell_type": "markdown",
      "metadata": {
        "id": "fnVGuKQzWLMK"
      },
      "source": [
        "# Problem 4"
      ]
    },
    {
      "cell_type": "markdown",
      "metadata": {
        "id": "0jMwEhB1XXUS"
      },
      "source": [
        "A popular product is produced at three plants (PL1, PL2, PL3) and is required to ship to three warehouses: WH1, WH2, and WH3. The supply from each plant, the delivery required in each warehouse, and the unit transportation cost from each plant to each warehouse is shown below:\n",
        "\n",
        "|Plant|WH1|WH2|WH3|Plant Capacity|\n",
        "|--|--|--|--|--|\n",
        "|PL1|20|15|25|400|\n",
        "|PL2|10|12|8|500|\n",
        "|PL3|14|20|12|200|\n",
        "|Warehouse demand|300|200|600||\n",
        "\n",
        "Develop an LP model for minimizing the transportation cost while not violating the supply and demand constraints."
      ]
    },
    {
      "cell_type": "markdown",
      "metadata": {},
      "source": [
        "# Problem 5"
      ]
    },
    {
      "cell_type": "markdown",
      "metadata": {},
      "source": [
        "A certain paint can be produced using four different production processes (P1, P2, P3, and P4). The processing cost of each liter in any of the four available processes, the maximum capacity of each process, and the setup costs are given below:\n",
        "\n",
        "|Process|Setup Cost (\\$)|Processing Cost (\\$/L)|Capacity (L)|\n",
        "|--|--|--|--|\n",
        "|P1|5,000|0.60|20,000|\n",
        "|P2|6,000|0.50|15,000|\n",
        "|P3|10,000|0.40|40,000|\n",
        "|P4|6,000|0.40|25,000|\n",
        "\n",
        "Assume that a daily demand of 45,000 L must be fulfilled. Formulate the problem as a programming model to determine the daily production schedule in order to minimize total costs."
      ]
    }
  ],
  "metadata": {
    "colab": {
      "collapsed_sections": [
        "uQ_1hjFjShJW",
        "3J3qyDVNSuN7",
        "dfZdDAhBUHxv",
        "fnVGuKQzWLMK"
      ],
      "provenance": []
    },
    "kernelspec": {
      "display_name": "Python 3",
      "name": "python3"
    },
    "language_info": {
      "name": "python"
    }
  },
  "nbformat": 4,
  "nbformat_minor": 0
}
